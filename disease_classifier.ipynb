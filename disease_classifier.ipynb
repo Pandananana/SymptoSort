{
 "cells": [
  {
   "cell_type": "code",
   "execution_count": 20,
   "metadata": {},
   "outputs": [],
   "source": [
    "# Import all necessary libraries and magics\n",
    "\n",
    "import numpy as np\n",
    "import matplotlib.pyplot as plt\n",
    "import pandas as pd\n",
    "from scipy import stats\n",
    "%matplotlib inline\n",
    "plt.style.use('bmh')\n",
    "\n",
    "from sklearn.model_selection import train_test_split, GridSearchCV, cross_val_score\n",
    "from sklearn.preprocessing import MinMaxScaler, StandardScaler, PolynomialFeatures, OneHotEncoder\n",
    "from sklearn.impute import SimpleImputer\n",
    "from sklearn.pipeline import Pipeline\n",
    "from sklearn.compose import ColumnTransformer\n",
    "from sklearn.metrics import classification_report, accuracy_score, confusion_matrix, ConfusionMatrixDisplay\n",
    "from sklearn.metrics import mean_squared_error, r2_score\n",
    "from sklearn.linear_model import LinearRegression, Lasso, LogisticRegression, Lasso, Ridge\n",
    "from sklearn.ensemble import RandomForestClassifier, RandomForestRegressor, BaggingClassifier, BaggingRegressor\n",
    "from sklearn.ensemble import AdaBoostClassifier, AdaBoostRegressor\n",
    "from sklearn.tree import DecisionTreeClassifier, DecisionTreeRegressor\n",
    "import numpy as np\n",
    "from sklearn.utils import resample\n",
    "from scipy import stats\n",
    "from tqdm import tqdm"
   ]
  },
  {
   "cell_type": "code",
   "execution_count": 27,
   "metadata": {},
   "outputs": [
    {
     "name": "stdout",
     "output_type": "stream",
     "text": [
      "<class 'pandas.core.frame.DataFrame'>\n",
      "RangeIndex: 4920 entries, 0 to 4919\n",
      "Data columns (total 18 columns):\n",
      " #   Column      Non-Null Count  Dtype \n",
      "---  ------      --------------  ----- \n",
      " 0   Disease     4920 non-null   object\n",
      " 1   Symptom_1   4920 non-null   object\n",
      " 2   Symptom_2   4920 non-null   object\n",
      " 3   Symptom_3   4920 non-null   object\n",
      " 4   Symptom_4   4572 non-null   object\n",
      " 5   Symptom_5   3714 non-null   object\n",
      " 6   Symptom_6   2934 non-null   object\n",
      " 7   Symptom_7   2268 non-null   object\n",
      " 8   Symptom_8   1944 non-null   object\n",
      " 9   Symptom_9   1692 non-null   object\n",
      " 10  Symptom_10  1512 non-null   object\n",
      " 11  Symptom_11  1194 non-null   object\n",
      " 12  Symptom_12  744 non-null    object\n",
      " 13  Symptom_13  504 non-null    object\n",
      " 14  Symptom_14  306 non-null    object\n",
      " 15  Symptom_15  240 non-null    object\n",
      " 16  Symptom_16  192 non-null    object\n",
      " 17  Symptom_17  72 non-null     object\n",
      "dtypes: object(18)\n",
      "memory usage: 692.0+ KB\n"
     ]
    }
   ],
   "source": [
    "dataset = pd.read_csv('datasets/dataset.csv')\n",
    "dataset.info()"
   ]
  },
  {
   "cell_type": "code",
   "execution_count": 28,
   "metadata": {},
   "outputs": [
    {
     "ename": "ValueError",
     "evalue": "input_features is not equal to feature_names_in_",
     "output_type": "error",
     "traceback": [
      "\u001b[0;31m---------------------------------------------------------------------------\u001b[0m",
      "\u001b[0;31mValueError\u001b[0m                                Traceback (most recent call last)",
      "\u001b[1;32m/home/aw/Code/uni_code/engineering_innovation/prototype/disease_classifier.ipynb Cell 3\u001b[0m line \u001b[0;36m7\n\u001b[1;32m      <a href='vscode-notebook-cell:/home/aw/Code/uni_code/engineering_innovation/prototype/disease_classifier.ipynb#W2sZmlsZQ%3D%3D?line=0'>1</a>\u001b[0m pre_processing \u001b[39m=\u001b[39m Pipeline([\n\u001b[1;32m      <a href='vscode-notebook-cell:/home/aw/Code/uni_code/engineering_innovation/prototype/disease_classifier.ipynb#W2sZmlsZQ%3D%3D?line=1'>2</a>\u001b[0m     (\u001b[39m'\u001b[39m\u001b[39mOnehot\u001b[39m\u001b[39m'\u001b[39m, OneHotEncoder()),\n\u001b[1;32m      <a href='vscode-notebook-cell:/home/aw/Code/uni_code/engineering_innovation/prototype/disease_classifier.ipynb#W2sZmlsZQ%3D%3D?line=2'>3</a>\u001b[0m ])\n\u001b[1;32m      <a href='vscode-notebook-cell:/home/aw/Code/uni_code/engineering_innovation/prototype/disease_classifier.ipynb#W2sZmlsZQ%3D%3D?line=4'>5</a>\u001b[0m pre_processing\u001b[39m.\u001b[39mfit_transform(dataset)\n\u001b[0;32m----> <a href='vscode-notebook-cell:/home/aw/Code/uni_code/engineering_innovation/prototype/disease_classifier.ipynb#W2sZmlsZQ%3D%3D?line=6'>7</a>\u001b[0m target_column \u001b[39m=\u001b[39m pre_processing\u001b[39m.\u001b[39;49mnamed_steps[\u001b[39m'\u001b[39;49m\u001b[39mOnehot\u001b[39;49m\u001b[39m'\u001b[39;49m]\u001b[39m.\u001b[39;49mget_feature_names_out([\u001b[39m'\u001b[39;49m\u001b[39mDisease\u001b[39;49m\u001b[39m'\u001b[39;49m])\n\u001b[1;32m      <a href='vscode-notebook-cell:/home/aw/Code/uni_code/engineering_innovation/prototype/disease_classifier.ipynb#W2sZmlsZQ%3D%3D?line=7'>8</a>\u001b[0m target_column\n",
      "File \u001b[0;32m~/.conda/envs/aml/lib/python3.11/site-packages/sklearn/preprocessing/_encoders.py:1200\u001b[0m, in \u001b[0;36mOneHotEncoder.get_feature_names_out\u001b[0;34m(self, input_features)\u001b[0m\n\u001b[1;32m   1180\u001b[0m \u001b[39m\u001b[39m\u001b[39m\"\"\"Get output feature names for transformation.\u001b[39;00m\n\u001b[1;32m   1181\u001b[0m \n\u001b[1;32m   1182\u001b[0m \u001b[39mParameters\u001b[39;00m\n\u001b[0;32m   (...)\u001b[0m\n\u001b[1;32m   1197\u001b[0m \u001b[39m    Transformed feature names.\u001b[39;00m\n\u001b[1;32m   1198\u001b[0m \u001b[39m\"\"\"\u001b[39;00m\n\u001b[1;32m   1199\u001b[0m check_is_fitted(\u001b[39mself\u001b[39m)\n\u001b[0;32m-> 1200\u001b[0m input_features \u001b[39m=\u001b[39m _check_feature_names_in(\u001b[39mself\u001b[39;49m, input_features)\n\u001b[1;32m   1201\u001b[0m cats \u001b[39m=\u001b[39m [\n\u001b[1;32m   1202\u001b[0m     \u001b[39mself\u001b[39m\u001b[39m.\u001b[39m_compute_transformed_categories(i)\n\u001b[1;32m   1203\u001b[0m     \u001b[39mfor\u001b[39;00m i, _ \u001b[39min\u001b[39;00m \u001b[39menumerate\u001b[39m(\u001b[39mself\u001b[39m\u001b[39m.\u001b[39mcategories_)\n\u001b[1;32m   1204\u001b[0m ]\n\u001b[1;32m   1206\u001b[0m name_combiner \u001b[39m=\u001b[39m \u001b[39mself\u001b[39m\u001b[39m.\u001b[39m_check_get_feature_name_combiner()\n",
      "File \u001b[0;32m~/.conda/envs/aml/lib/python3.11/site-packages/sklearn/utils/validation.py:2072\u001b[0m, in \u001b[0;36m_check_feature_names_in\u001b[0;34m(estimator, input_features, generate_names)\u001b[0m\n\u001b[1;32m   2068\u001b[0m input_features \u001b[39m=\u001b[39m np\u001b[39m.\u001b[39masarray(input_features, dtype\u001b[39m=\u001b[39m\u001b[39mobject\u001b[39m)\n\u001b[1;32m   2069\u001b[0m \u001b[39mif\u001b[39;00m feature_names_in_ \u001b[39mis\u001b[39;00m \u001b[39mnot\u001b[39;00m \u001b[39mNone\u001b[39;00m \u001b[39mand\u001b[39;00m \u001b[39mnot\u001b[39;00m np\u001b[39m.\u001b[39marray_equal(\n\u001b[1;32m   2070\u001b[0m     feature_names_in_, input_features\n\u001b[1;32m   2071\u001b[0m ):\n\u001b[0;32m-> 2072\u001b[0m     \u001b[39mraise\u001b[39;00m \u001b[39mValueError\u001b[39;00m(\u001b[39m\"\u001b[39m\u001b[39minput_features is not equal to feature_names_in_\u001b[39m\u001b[39m\"\u001b[39m)\n\u001b[1;32m   2074\u001b[0m \u001b[39mif\u001b[39;00m n_features_in_ \u001b[39mis\u001b[39;00m \u001b[39mnot\u001b[39;00m \u001b[39mNone\u001b[39;00m \u001b[39mand\u001b[39;00m \u001b[39mlen\u001b[39m(input_features) \u001b[39m!=\u001b[39m n_features_in_:\n\u001b[1;32m   2075\u001b[0m     \u001b[39mraise\u001b[39;00m \u001b[39mValueError\u001b[39;00m(\n\u001b[1;32m   2076\u001b[0m         \u001b[39m\"\u001b[39m\u001b[39minput_features should have length equal to number of \u001b[39m\u001b[39m\"\u001b[39m\n\u001b[1;32m   2077\u001b[0m         \u001b[39mf\u001b[39m\u001b[39m\"\u001b[39m\u001b[39mfeatures (\u001b[39m\u001b[39m{\u001b[39;00mn_features_in_\u001b[39m}\u001b[39;00m\u001b[39m), got \u001b[39m\u001b[39m{\u001b[39;00m\u001b[39mlen\u001b[39m(input_features)\u001b[39m}\u001b[39;00m\u001b[39m\"\u001b[39m\n\u001b[1;32m   2078\u001b[0m     )\n",
      "\u001b[0;31mValueError\u001b[0m: input_features is not equal to feature_names_in_"
     ]
    }
   ],
   "source": [
    "pre_processing = Pipeline([\n",
    "    ('Onehot', OneHotEncoder()),\n",
    "])\n",
    "\n",
    "pre_processing.fit_transform(dataset)\n",
    "\n",
    "target_column = pre_processing.named_steps['Onehot'].get_feature_names_out()\n",
    "target_column"
   ]
  },
  {
   "cell_type": "code",
   "execution_count": 17,
   "metadata": {},
   "outputs": [
    {
     "data": {
      "text/plain": [
       "373                             Acne\n",
       "4916                            Acne\n",
       "1550                 Hyperthyroidism\n",
       "3081                            AIDS\n",
       "3857             Chronic cholestasis\n",
       "                    ...             \n",
       "1101    Dimorphic hemmorhoids(piles)\n",
       "4639                            AIDS\n",
       "3625                          Dengue\n",
       "378                             Acne\n",
       "495                  Gastroenteritis\n",
       "Name: Disease, Length: 984, dtype: object"
      ]
     },
     "execution_count": 17,
     "metadata": {},
     "output_type": "execute_result"
    }
   ],
   "source": [
    "# Split the dataset into train and test sets\n",
    "\n",
    "X = dataset.drop('Disease', axis=1)\n",
    "t = dataset['Disease']\n",
    "\n",
    "X_train, X_test, t_train, t_test = train_test_split(X, t, test_size=0.2, random_state=42)\n",
    "t_test"
   ]
  },
  {
   "cell_type": "code",
   "execution_count": null,
   "metadata": {},
   "outputs": [],
   "source": []
  }
 ],
 "metadata": {
  "kernelspec": {
   "display_name": "aml",
   "language": "python",
   "name": "python3"
  },
  "language_info": {
   "codemirror_mode": {
    "name": "ipython",
    "version": 3
   },
   "file_extension": ".py",
   "mimetype": "text/x-python",
   "name": "python",
   "nbconvert_exporter": "python",
   "pygments_lexer": "ipython3",
   "version": "3.11.5"
  }
 },
 "nbformat": 4,
 "nbformat_minor": 2
}
